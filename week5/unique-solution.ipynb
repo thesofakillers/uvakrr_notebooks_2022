{
 "cells": [
  {
   "cell_type": "markdown",
   "metadata": {},
   "source": [
    "# Solving a toy puzzle and generating puzzles with a unique solution\n",
    "\n",
    "In this example, we will consider the following toy puzzle.\n",
    "\n",
    "## The puzzle\n",
    "\n",
    "You are given a list of length $k$ filled with numbers (between $0$ and $k$). For example: $[0,4,1,0]$. The puzzle is to replace the $0$'s so that (i) every number between $1$ and $k$ appears exactly once in the list, and (ii) adjacent numbers in the list differ by more than $1$. For example, a solution for the input $[0,4,1,0]$ is $[2,4,1,3]$.\n",
    "\n",
    "## Solving the puzzle using ASP\n",
    "\n",
    "Let's start by solving inputs for this puzzle using ASP."
   ]
  },
  {
   "cell_type": "code",
   "execution_count": 1,
   "metadata": {},
   "outputs": [
    {
     "name": "stdout",
     "output_type": "stream",
     "text": [
      "Solution: [2, 4, 1, 3]\n"
     ]
    }
   ],
   "source": [
    "import clingo\n",
    "\n",
    "puzzle_input = [0,4,1,0]\n",
    "k = len(puzzle_input)\n",
    "\n",
    "asp_program = \"#const k={}.\\n\".format(k)\n",
    "\n",
    "# Encode the problem input\n",
    "for i,number in enumerate(puzzle_input, 1):\n",
    "    if number != 0:\n",
    "        asp_program += \"input({},{}).\\n\".format(i,number)\n",
    "\n",
    "# Generate a candidate solution\n",
    "asp_program += \"\"\"\n",
    "    cell(1..k).\n",
    "    number(1..k).\n",
    "    \n",
    "    1 { solution(C,N) : number(N) } 1 :- cell(C).\n",
    "    1 { solution(C,N) : cell(C) } 1 :- number(N).\n",
    "    \n",
    "    :- input(C,N), not solution(C,N).\n",
    "    \n",
    "    #show solution/2.\n",
    "\"\"\"\n",
    "\n",
    "# Require that adjacent cells have numbers differing by more than 1\n",
    "asp_program += \"\"\"\n",
    "    adjacent_cell(A,B) :- cell(A), cell(B), |A-B| = 1.\n",
    "    adjacent_number(N,M) :- number(N), number(M), |N-M| = 1.\n",
    "    \n",
    "    :- adjacent_cell(A,B), solution(A,N), solution(B,M), adjacent_number(N,M).\n",
    "\"\"\"\n",
    "        \n",
    "# Run clingo to find answer sets, and translate them to lists\n",
    "control = clingo.Control()\n",
    "control.add(\"base\", [], asp_program)\n",
    "control.ground([(\"base\", [])])\n",
    "control.configuration.solve.models = 0\n",
    "\n",
    "with control.solve(yield_=True) as handle:\n",
    "    for model in handle:\n",
    "        solution = [0]*k\n",
    "        for atom in model.symbols(shown=True):\n",
    "            if atom.name == \"solution\":\n",
    "                i = atom.arguments[0].number - 1\n",
    "                n = atom.arguments[1].number\n",
    "                solution[i] = n\n",
    "        print(\"Solution:\",solution)"
   ]
  },
  {
   "cell_type": "markdown",
   "metadata": {},
   "source": [
    "## Generating puzzles with unique solutions using ASP\n",
    "\n",
    "Next, let's see how we can generate puzzle inputs that have a unique solution using ASP. To do so, we will use the technique of saturation.\n",
    "\n",
    "We begin by generating a solution for the puzzle, similarly to what we did in the first part of the example."
   ]
  },
  {
   "cell_type": "code",
   "execution_count": 2,
   "metadata": {},
   "outputs": [],
   "source": [
    "k = 4\n",
    "\n",
    "asp_program = \"#const k={}.\\n\".format(k)\n",
    "\n",
    "# Generate a candidate solution\n",
    "asp_program += \"\"\"\n",
    "    cell(1..k).\n",
    "    number(1..k).\n",
    "    \n",
    "    1 { solution(C,N) : number(N) } 1 :- cell(C).\n",
    "    1 { solution(C,N) : cell(C) } 1 :- number(N).\n",
    "    \n",
    "    :- input(C,N), not solution(C,N).\n",
    "\"\"\"\n",
    "\n",
    "# Require that adjacent cells have numbers differing by more than 1\n",
    "asp_program += \"\"\"\n",
    "    adjacent_cell(A,B) :- cell(A), cell(B), |A-B| = 1.\n",
    "    adjacent_number(N,M) :- number(N), number(M), |N-M| = 1.\n",
    "    \n",
    "    :- adjacent_cell(A,B), solution(A,N), solution(B,M), adjacent_number(N,M).\n",
    "\"\"\""
   ]
  },
  {
   "cell_type": "markdown",
   "metadata": {},
   "source": [
    "Now, let's select some of the cells in the solution to hide (i.e., replace by a $0$) in the puzzle."
   ]
  },
  {
   "cell_type": "code",
   "execution_count": 3,
   "metadata": {},
   "outputs": [],
   "source": [
    "# Hide some cells\n",
    "asp_program += \"\"\"\n",
    "    { hide(C) : cell(C) }.\n",
    "    puzzle(C,N) :- solution(C,N), not hide(C).\n",
    "    \n",
    "    #show puzzle/2.\n",
    "\"\"\""
   ]
  },
  {
   "cell_type": "markdown",
   "metadata": {},
   "source": [
    "Next, let's encode the requirement that the puzzle that we generated has a unique solution (namely the solution that we already have for it). To do this, we will use saturation to require that there may not be a different valid solution."
   ]
  },
  {
   "cell_type": "code",
   "execution_count": 4,
   "metadata": {},
   "outputs": [],
   "source": [
    "# Generate the search space for other solutions\n",
    "asp_program += \"\"\"\n",
    "    other_solution(C,N) : number(N) :- cell(C).\n",
    "\"\"\"\n",
    "\n",
    "# State which solutions are invalid\n",
    "# i.e., those that assign the same number to two different cells\n",
    "asp_program += \"\"\"\n",
    "    invalid :- cell(A), cell(B), A != B, other_solution(A,N), other_solution(B,N).\n",
    "\"\"\"\n",
    "\n",
    "# State which solutions are incorrect\n",
    "# i.e., those that do not match the puzzle that we generated,\n",
    "#       those that assign neighboring cells to subsequent numbers, and\n",
    "#       those that agree with the one solution that we have for our puzzle\n",
    "asp_program += \"\"\"\n",
    "    incorrect :- puzzle(C,N), other_solution(C,M), N != M.\n",
    "    incorrect :- cell(A), cell(B), other_solution(A,N), other_solution(B,M),\n",
    "        adjacent_cell(A,B), adjacent_number(N,M).\n",
    "    incorrect :- other_solution(C,N) : solution(C,N).\n",
    "\"\"\"\n",
    "\n",
    "# Finish our saturation\n",
    "asp_program += \"\"\"\n",
    "    saturate :- invalid.\n",
    "    saturate :- incorrect.\n",
    "    other_solution(C,N) :- cell(C), number(N), saturate.\n",
    "    invalid :- saturate.\n",
    "    incorrect :- saturate.\n",
    "    :- not saturate.\n",
    "\"\"\""
   ]
  },
  {
   "cell_type": "markdown",
   "metadata": {},
   "source": [
    "Finally, let's state that we want a puzzle where only $u=1$ cells are filled in."
   ]
  },
  {
   "cell_type": "code",
   "execution_count": 5,
   "metadata": {},
   "outputs": [],
   "source": [
    "u = 1\n",
    "\n",
    "asp_program += \"\"\"\n",
    "    :- not {} {{ puzzle(C,N) : cell(C), number(N) }} {}.\n",
    "\"\"\".format(u,u)"
   ]
  },
  {
   "cell_type": "markdown",
   "metadata": {},
   "source": [
    "This finishes our encoding. Let's call clingo to find answer sets, and translate them to lists."
   ]
  },
  {
   "cell_type": "code",
   "execution_count": 6,
   "metadata": {},
   "outputs": [
    {
     "name": "stdout",
     "output_type": "stream",
     "text": [
      "Puzzle with a unique solution: [2, 0, 0, 0]\n",
      "Puzzle with a unique solution: [3, 0, 0, 0]\n",
      "Puzzle with a unique solution: [0, 0, 0, 3]\n",
      "Puzzle with a unique solution: [0, 4, 0, 0]\n",
      "Puzzle with a unique solution: [0, 0, 1, 0]\n",
      "Puzzle with a unique solution: [0, 0, 4, 0]\n",
      "Puzzle with a unique solution: [0, 1, 0, 0]\n",
      "Puzzle with a unique solution: [0, 0, 0, 2]\n"
     ]
    }
   ],
   "source": [
    "# Run clingo to find answer sets, and translate them to lists\n",
    "control = clingo.Control()\n",
    "control.add(\"base\", [], asp_program)\n",
    "control.ground([(\"base\", [])])\n",
    "control.configuration.solve.models = 0\n",
    "\n",
    "with control.solve(yield_=True) as handle:\n",
    "    for model in handle:\n",
    "        solution = [0]*k\n",
    "        for atom in model.symbols(shown=True):\n",
    "            if atom.name == \"puzzle\":\n",
    "                i = atom.arguments[0].number - 1\n",
    "                n = atom.arguments[1].number\n",
    "                solution[i] = n\n",
    "        print(\"Puzzle with a unique solution:\",solution)"
   ]
  }
 ],
 "metadata": {
  "kernelspec": {
   "display_name": "Python 3",
   "language": "python",
   "name": "python3"
  },
  "language_info": {
   "codemirror_mode": {
    "name": "ipython",
    "version": 3
   },
   "file_extension": ".py",
   "mimetype": "text/x-python",
   "name": "python",
   "nbconvert_exporter": "python",
   "pygments_lexer": "ipython3",
   "version": "3.7.7"
  }
 },
 "nbformat": 4,
 "nbformat_minor": 4
}
