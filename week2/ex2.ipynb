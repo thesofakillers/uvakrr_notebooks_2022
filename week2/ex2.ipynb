{
 "cells": [
  {
   "cell_type": "markdown",
   "metadata": {},
   "source": [
    "# Exercise session 2, Exercise 3\n",
    "\n",
    "This is a template for using the [pysat](https://pysathq.github.io/) Python library to call a SAT solver to work out Exercise 3 for *Exercise session 2*.\n",
    "\n",
    "First, install pysat, e.g., using:\n",
    "`python -m pip install --upgrade --user python-sat`\n",
    "\n",
    "Let's start with importing some relevant and useful things (from the pysat library):"
   ]
  },
  {
   "cell_type": "code",
   "execution_count": 1,
   "metadata": {},
   "outputs": [],
   "source": [
    "from pysat.formula import CNF\n",
    "from pysat.solvers import MinisatGH\n",
    "\n",
    "from itertools import product"
   ]
  },
  {
   "cell_type": "markdown",
   "metadata": {},
   "source": [
    "## Exercise 3(I+II)\n",
    "\n",
    "### Setting things up\n",
    "With pysat, we can only have variables that are identified with a single positive integer. To make things a bit more convenient, let us introduce a way to identify variables by names that make intuitive sense."
   ]
  },
  {
   "cell_type": "code",
   "execution_count": 2,
   "metadata": {},
   "outputs": [],
   "source": [
    "current_varnum = 1\n",
    "varnum_to_varname = dict()\n",
    "varname_to_varnum = dict()\n",
    "\n",
    "names = ['a', 'b', 'c', 'd', 'e', 'f']\n",
    "name_to_full = {\n",
    "    'a': 'Alex',\n",
    "    'b': 'Blake',\n",
    "    'c': 'Charlie',\n",
    "    'd': 'Dakota',\n",
    "    'e': 'Emerson',\n",
    "    'f': 'Frankie',\n",
    "}\n",
    "positions = [1, 2, 3, 4, 5, 6]\n",
    "\n",
    "for name in names:\n",
    "    for pos in positions:\n",
    "        varnum_to_varname[current_varnum] = (name, pos)\n",
    "        varname_to_varnum[(name, pos)] = current_varnum\n",
    "        current_varnum += 1"
   ]
  },
  {
   "cell_type": "markdown",
   "metadata": {},
   "source": [
    "Now we can construct a CNF formula."
   ]
  },
  {
   "cell_type": "code",
   "execution_count": 3,
   "metadata": {},
   "outputs": [],
   "source": [
    "formula = CNF()"
   ]
  },
  {
   "cell_type": "markdown",
   "metadata": {},
   "source": [
    "Let's begin by adding clauses that state that every person must finish at some position."
   ]
  },
  {
   "cell_type": "code",
   "execution_count": 4,
   "metadata": {},
   "outputs": [],
   "source": [
    "for name in names:\n",
    "    clause = [varname_to_varnum[(name, pos)] for pos in positions]\n",
    "    formula.append(clause)"
   ]
  },
  {
   "cell_type": "markdown",
   "metadata": {},
   "source": [
    "### Finish the formula\n",
    "The formula is not finished yet. Complete the formula by adding more clauses."
   ]
  },
  {
   "cell_type": "code",
   "execution_count": 5,
   "metadata": {},
   "outputs": [],
   "source": [
    "# TODO: finish the formula"
   ]
  },
  {
   "cell_type": "markdown",
   "metadata": {},
   "source": [
    "### Encode the query\n",
    "Next, add some clause(s) to the formula that represent the query."
   ]
  },
  {
   "cell_type": "code",
   "execution_count": 6,
   "metadata": {},
   "outputs": [],
   "source": [
    "# TODO: add a representation of the query to the formula"
   ]
  },
  {
   "cell_type": "markdown",
   "metadata": {},
   "source": [
    "### Solve and interpret the assignment\n",
    "We then create a solver object. Let's use the MinisatGH solver. (There is a [range of solvers](https://pysathq.github.io/docs/html/api/solvers.html) that you can use.)\n",
    "\n",
    "And we load the CNF formula in the solver."
   ]
  },
  {
   "cell_type": "code",
   "execution_count": 7,
   "metadata": {},
   "outputs": [],
   "source": [
    "solver = MinisatGH()\n",
    "solver.append_formula(formula)"
   ]
  },
  {
   "cell_type": "markdown",
   "metadata": {},
   "source": [
    "Finally, we invoke the solver, and interpret a satisfying assignment that it finds."
   ]
  },
  {
   "cell_type": "code",
   "execution_count": 8,
   "metadata": {},
   "outputs": [
    {
     "name": "stdout",
     "output_type": "stream",
     "text": [
      "Found a satisfying assignment:\n",
      "- Alex finished in position 1\n",
      "- Blake finished in position 1\n",
      "- Charlie finished in position 1\n",
      "- Dakota finished in position 1\n",
      "- Emerson finished in position 1\n",
      "- Frankie finished in position 1\n"
     ]
    }
   ],
   "source": [
    "if solver.solve():\n",
    "    print(\"Found a satisfying assignment:\");\n",
    "    for lit in solver.get_model():\n",
    "        if lit > 0:\n",
    "            name, pos = varnum_to_varname[lit]\n",
    "            print(f\"- {name_to_full[name]} finished in position {pos}\")\n",
    "else:\n",
    "    print(\"Did not find a satisfying assignment.\");"
   ]
  },
  {
   "cell_type": "markdown",
   "metadata": {},
   "source": [
    "### Call the SAT solver multiple times\n",
    "For some reasoning tasks, you might need to construct a formula, make several copies of it, and add different clauses to the different copies corresponding to the different yes-no queries."
   ]
  },
  {
   "cell_type": "code",
   "execution_count": 9,
   "metadata": {},
   "outputs": [],
   "source": [
    "# TODO: find a way to place several yes-no queries to the formula representing the piece(s) of knowledge"
   ]
  },
  {
   "cell_type": "markdown",
   "metadata": {},
   "source": [
    "## Exercise 3(III)\n",
    "\n",
    "Exercise 3(III) asks you to do the representation and reasoning again, but with a different choice of propositional variables. Here is some infrastructure that helps you with this."
   ]
  },
  {
   "cell_type": "code",
   "execution_count": 10,
   "metadata": {},
   "outputs": [],
   "source": [
    "current_varnum = 1\n",
    "varnum_to_varname = dict()\n",
    "varname_to_varnum = dict()\n",
    "\n",
    "for name1, name2 in product(names, repeat=2):\n",
    "    varname = (name1, name2)\n",
    "    varnum_to_varname[current_varnum] = varname\n",
    "    varname_to_varnum[varname] = current_varnum\n",
    "    current_varnum += 1"
   ]
  },
  {
   "cell_type": "markdown",
   "metadata": {},
   "source": [
    "Now, finish the encoding with these propositional variables yourself."
   ]
  },
  {
   "cell_type": "code",
   "execution_count": 11,
   "metadata": {},
   "outputs": [],
   "source": [
    "# TODO: finish Exercise 3(III)"
   ]
  }
 ],
 "metadata": {
  "kernelspec": {
   "display_name": "Python 3",
   "language": "python",
   "name": "python3"
  },
  "language_info": {
   "codemirror_mode": {
    "name": "ipython",
    "version": 3
   },
   "file_extension": ".py",
   "mimetype": "text/x-python",
   "name": "python",
   "nbconvert_exporter": "python",
   "pygments_lexer": "ipython3",
   "version": "3.7.7"
  }
 },
 "nbformat": 4,
 "nbformat_minor": 4
}
