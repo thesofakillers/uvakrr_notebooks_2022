{
 "cells": [
  {
   "cell_type": "markdown",
   "metadata": {},
   "source": [
    "# Some common 'tricks'\n",
    "\n",
    "When modelling problems in ASP, it turns out that there are some 'tricks' that come in handy a lot of the time. Here we'll run through some of the most common of these tricks.\n",
    "\n",
    "Let's start with setting up a function to print answer sets of a program:"
   ]
  },
  {
   "cell_type": "code",
   "execution_count": 1,
   "metadata": {},
   "outputs": [],
   "source": [
    "import clingo\n",
    "\n",
    "def print_answer_sets(program):\n",
    "    control = clingo.Control()\n",
    "    control.add(\"base\", [], program)\n",
    "    control.ground([(\"base\", [])])\n",
    "    control.configuration.solve.models = 0\n",
    "    for model in control.solve(yield_=True):\n",
    "        sorted_model = [str(atom) for atom in model.symbols(shown=True)]\n",
    "        sorted_model.sort()\n",
    "        print(\"Answer set: {{{}}}\".format(\", \".join(sorted_model)))"
   ]
  },
  {
   "cell_type": "markdown",
   "metadata": {},
   "source": [
    "## Generating \n",
    "\n",
    "The following tricks are useful for generating the right search space.\n",
    "\n",
    "### Generating assignments to binary variables\n",
    "\n",
    "You can generate all assignments to a set of binary variables as follows (e.g., truth assignments)."
   ]
  },
  {
   "cell_type": "code",
   "execution_count": 2,
   "metadata": {},
   "outputs": [
    {
     "name": "stdout",
     "output_type": "stream",
     "text": [
      "Answer set: {false(1), false(2), false(3)}\n",
      "Answer set: {false(1), false(3), true(2)}\n",
      "Answer set: {false(1), false(2), true(3)}\n",
      "Answer set: {false(1), true(2), true(3)}\n",
      "Answer set: {false(2), false(3), true(1)}\n",
      "Answer set: {false(2), true(1), true(3)}\n",
      "Answer set: {false(3), true(1), true(2)}\n",
      "Answer set: {true(1), true(2), true(3)}\n"
     ]
    }
   ],
   "source": [
    "print_answer_sets(\"\"\"\n",
    "    var(1..3).\n",
    "    true(X) :- not false(X), var(X).\n",
    "    false(X) :- not true(X), var(X).\n",
    "    #show true/1.\n",
    "    #show false/1.\n",
    "\"\"\")"
   ]
  },
  {
   "cell_type": "markdown",
   "metadata": {},
   "source": [
    "Or alternatively like this:"
   ]
  },
  {
   "cell_type": "code",
   "execution_count": 3,
   "metadata": {},
   "outputs": [
    {
     "name": "stdout",
     "output_type": "stream",
     "text": [
      "Answer set: {false(2), false(3), true(1)}\n",
      "Answer set: {false(3), true(1), true(2)}\n",
      "Answer set: {false(2), true(1), true(3)}\n",
      "Answer set: {true(1), true(2), true(3)}\n",
      "Answer set: {false(1), false(2), true(3)}\n",
      "Answer set: {false(1), false(2), false(3)}\n",
      "Answer set: {false(1), true(2), true(3)}\n",
      "Answer set: {false(1), false(3), true(2)}\n"
     ]
    }
   ],
   "source": [
    "print_answer_sets(\"\"\"\n",
    "    var(1..3).\n",
    "    1 { true(X); false(X) } 1 :- var(X).\n",
    "    #show true/1.\n",
    "    #show false/1.\n",
    "\"\"\")"
   ]
  },
  {
   "cell_type": "markdown",
   "metadata": {},
   "source": [
    "### Generating assignments to $n$-ary variables\n",
    "\n",
    "Generating all assignments to variables with domains of more than two elements, you can do like this:"
   ]
  },
  {
   "cell_type": "code",
   "execution_count": 4,
   "metadata": {},
   "outputs": [
    {
     "name": "stdout",
     "output_type": "stream",
     "text": [
      "Answer set: {assign(1,1), assign(2,3)}\n",
      "Answer set: {assign(1,1), assign(2,2)}\n",
      "Answer set: {assign(1,1), assign(2,1)}\n",
      "Answer set: {assign(1,1), assign(2,4)}\n",
      "Answer set: {assign(1,4), assign(2,1)}\n",
      "Answer set: {assign(1,2), assign(2,1)}\n",
      "Answer set: {assign(1,3), assign(2,1)}\n",
      "Answer set: {assign(1,2), assign(2,3)}\n",
      "Answer set: {assign(1,2), assign(2,2)}\n",
      "Answer set: {assign(1,2), assign(2,4)}\n",
      "Answer set: {assign(1,4), assign(2,2)}\n",
      "Answer set: {assign(1,3), assign(2,2)}\n",
      "Answer set: {assign(1,4), assign(2,4)}\n",
      "Answer set: {assign(1,4), assign(2,3)}\n",
      "Answer set: {assign(1,3), assign(2,4)}\n",
      "Answer set: {assign(1,3), assign(2,3)}\n"
     ]
    }
   ],
   "source": [
    "print_answer_sets(\"\"\"\n",
    "    var(1..2).\n",
    "    value(1..4).\n",
    "    assign(X,V) :- var(X), value(V), not assign(X,V') : value(V'), V' != V.\n",
    "    #show assign/2.\n",
    "\"\"\")"
   ]
  },
  {
   "cell_type": "markdown",
   "metadata": {},
   "source": [
    "Or a bit more compactly/intuitively, like this:"
   ]
  },
  {
   "cell_type": "code",
   "execution_count": 5,
   "metadata": {},
   "outputs": [
    {
     "name": "stdout",
     "output_type": "stream",
     "text": [
      "Answer set: {assign(1,3), assign(2,4)}\n",
      "Answer set: {assign(1,3), assign(2,1)}\n",
      "Answer set: {assign(1,3), assign(2,2)}\n",
      "Answer set: {assign(1,3), assign(2,3)}\n",
      "Answer set: {assign(1,4), assign(2,4)}\n",
      "Answer set: {assign(1,4), assign(2,2)}\n",
      "Answer set: {assign(1,4), assign(2,3)}\n",
      "Answer set: {assign(1,4), assign(2,1)}\n",
      "Answer set: {assign(1,2), assign(2,3)}\n",
      "Answer set: {assign(1,2), assign(2,1)}\n",
      "Answer set: {assign(1,2), assign(2,4)}\n",
      "Answer set: {assign(1,2), assign(2,2)}\n",
      "Answer set: {assign(1,1), assign(2,3)}\n",
      "Answer set: {assign(1,1), assign(2,4)}\n",
      "Answer set: {assign(1,1), assign(2,2)}\n",
      "Answer set: {assign(1,1), assign(2,1)}\n"
     ]
    }
   ],
   "source": [
    "print_answer_sets(\"\"\"\n",
    "    var(1..2).\n",
    "    value(1..4).\n",
    "    1 { assign(X,V) : value(V) } 1 :- var(X).\n",
    "    #show assign/2.\n",
    "\"\"\")"
   ]
  },
  {
   "cell_type": "markdown",
   "metadata": {},
   "source": [
    "### Generating one-to-one assignments\n",
    "\n",
    "If you have two sets of equal size, and you want to generate all one-to-one assignments between these sets, you can do that as follows:"
   ]
  },
  {
   "cell_type": "code",
   "execution_count": 6,
   "metadata": {},
   "outputs": [
    {
     "name": "stdout",
     "output_type": "stream",
     "text": [
      "Answer set: {match(1,c), match(2,b), match(3,a)}\n",
      "Answer set: {match(1,c), match(2,a), match(3,b)}\n",
      "Answer set: {match(1,b), match(2,c), match(3,a)}\n",
      "Answer set: {match(1,b), match(2,a), match(3,c)}\n",
      "Answer set: {match(1,a), match(2,c), match(3,b)}\n",
      "Answer set: {match(1,a), match(2,b), match(3,c)}\n"
     ]
    }
   ],
   "source": [
    "print_answer_sets(\"\"\"\n",
    "    side1(1..3).\n",
    "    side2(a;b;c).\n",
    "    1 { match(S1,S2) : side1(S1) } 1 :- side2(S2).\n",
    "    1 { match(S1,S2) : side2(S2) } 1 :- side1(S1).\n",
    "    #show match/2.\n",
    "\"\"\")"
   ]
  },
  {
   "cell_type": "markdown",
   "metadata": {},
   "source": [
    "### Generating one-to-many assignments\n",
    "\n",
    "If you have two sets $S_1$ and $S_2$ (possibly of different size), and you want to generate all assignments where every element in $S_1$ is assigned to exactly one element in $S_2$ (but not vice versa), then this is a way to do that:"
   ]
  },
  {
   "cell_type": "code",
   "execution_count": 7,
   "metadata": {},
   "outputs": [
    {
     "name": "stdout",
     "output_type": "stream",
     "text": [
      "Answer set: {match(1,c), match(2,a)}\n",
      "Answer set: {match(1,c), match(2,b)}\n",
      "Answer set: {match(1,c), match(2,c)}\n",
      "Answer set: {match(1,b), match(2,a)}\n",
      "Answer set: {match(1,b), match(2,c)}\n",
      "Answer set: {match(1,b), match(2,b)}\n",
      "Answer set: {match(1,a), match(2,a)}\n",
      "Answer set: {match(1,a), match(2,b)}\n",
      "Answer set: {match(1,a), match(2,c)}\n"
     ]
    }
   ],
   "source": [
    "print_answer_sets(\"\"\"\n",
    "    side1(1..2).\n",
    "    side2(a;b;c).\n",
    "    1 { match(S1,S2) : side2(S2) } 1 :- side1(S1).\n",
    "    #show match/2.\n",
    "\"\"\")"
   ]
  },
  {
   "cell_type": "markdown",
   "metadata": {},
   "source": [
    "### Generating arbitrary assignments\n",
    "\n",
    "If you have two sets $S_1$ and $S_2$ (possibly of different size), and you want to generate *all possible* (partial) assignments, you can do this:"
   ]
  },
  {
   "cell_type": "code",
   "execution_count": 8,
   "metadata": {},
   "outputs": [
    {
     "name": "stdout",
     "output_type": "stream",
     "text": [
      "Answer set: {}\n",
      "Answer set: {match(1,b)}\n",
      "Answer set: {match(2,a)}\n",
      "Answer set: {match(1,b), match(2,a)}\n",
      "Answer set: {match(2,b)}\n",
      "Answer set: {match(2,a), match(2,b)}\n",
      "Answer set: {match(1,b), match(2,b)}\n",
      "Answer set: {match(1,b), match(2,a), match(2,b)}\n",
      "Answer set: {match(1,a)}\n",
      "Answer set: {match(1,a), match(1,b)}\n",
      "Answer set: {match(1,a), match(2,b)}\n",
      "Answer set: {match(1,a), match(1,b), match(2,b)}\n",
      "Answer set: {match(1,a), match(2,a)}\n",
      "Answer set: {match(1,a), match(2,a), match(2,b)}\n",
      "Answer set: {match(1,a), match(1,b), match(2,a)}\n",
      "Answer set: {match(1,a), match(1,b), match(2,a), match(2,b)}\n"
     ]
    }
   ],
   "source": [
    "print_answer_sets(\"\"\"\n",
    "    side1(1..2).\n",
    "    side2(a;b).\n",
    "    { match(S1,S2) : side1(S1) } :- side2(S2).\n",
    "    #show match/2.\n",
    "\"\"\")"
   ]
  },
  {
   "cell_type": "markdown",
   "metadata": {},
   "source": [
    "### Generating injective assignments\n",
    "\n",
    "If you have two sets $S_1$ and $S_2$ (possibly of different size), and you want to generate all assignments where every element in $S_1$ is assigned to exactly one element in $S_2$ (but not vice versa) that are *injective* (i.e., no two elements in $S_1$ are assigned to the same element of $S_2$), you can do that as follows:"
   ]
  },
  {
   "cell_type": "code",
   "execution_count": 9,
   "metadata": {},
   "outputs": [
    {
     "name": "stdout",
     "output_type": "stream",
     "text": [
      "Answer set: {match(1,c), match(2,a)}\n",
      "Answer set: {match(1,c), match(2,b)}\n",
      "Answer set: {match(1,b), match(2,a)}\n",
      "Answer set: {match(1,b), match(2,c)}\n",
      "Answer set: {match(1,a), match(2,b)}\n",
      "Answer set: {match(1,a), match(2,c)}\n"
     ]
    }
   ],
   "source": [
    "print_answer_sets(\"\"\"\n",
    "    side1(1..2).\n",
    "    side2(a;b;c).\n",
    "    { match(S1,S2) : side1(S1) } 1 :- side2(S2).\n",
    "    1 { match(S1,S2) : side2(S2) } 1 :- side1(S1).\n",
    "    #show match/2.\n",
    "\"\"\")"
   ]
  },
  {
   "cell_type": "markdown",
   "metadata": {},
   "source": [
    "### Generating arbitrary subsets\n",
    "\n",
    "Selecting an arbitrary subset of elements from a given set can be done as follows:"
   ]
  },
  {
   "cell_type": "code",
   "execution_count": 10,
   "metadata": {},
   "outputs": [
    {
     "name": "stdout",
     "output_type": "stream",
     "text": [
      "Answer set: {}\n",
      "Answer set: {select(b)}\n",
      "Answer set: {select(c)}\n",
      "Answer set: {select(b), select(c)}\n",
      "Answer set: {select(a)}\n",
      "Answer set: {select(a), select(c)}\n",
      "Answer set: {select(a), select(b)}\n",
      "Answer set: {select(a), select(b), select(c)}\n"
     ]
    }
   ],
   "source": [
    "print_answer_sets(\"\"\"\n",
    "    element(a;b;c).\n",
    "    { select(E) } :- element(E).\n",
    "    #show select/1.\n",
    "\"\"\")"
   ]
  },
  {
   "cell_type": "markdown",
   "metadata": {},
   "source": [
    "Or alternatively like this:"
   ]
  },
  {
   "cell_type": "code",
   "execution_count": 11,
   "metadata": {},
   "outputs": [
    {
     "name": "stdout",
     "output_type": "stream",
     "text": [
      "Answer set: {}\n",
      "Answer set: {select(b)}\n",
      "Answer set: {select(c)}\n",
      "Answer set: {select(b), select(c)}\n",
      "Answer set: {select(a)}\n",
      "Answer set: {select(a), select(c)}\n",
      "Answer set: {select(a), select(b)}\n",
      "Answer set: {select(a), select(b), select(c)}\n"
     ]
    }
   ],
   "source": [
    "print_answer_sets(\"\"\"\n",
    "    element(a;b;c).\n",
    "    { select(E) : element(E) }.\n",
    "    #show select/1.\n",
    "\"\"\")"
   ]
  },
  {
   "cell_type": "markdown",
   "metadata": {},
   "source": [
    "### Generating subsets of size $k$\n",
    "\n",
    "If you want to generate all subsets that are of size *exactly* $k$, you can do this:"
   ]
  },
  {
   "cell_type": "code",
   "execution_count": 12,
   "metadata": {},
   "outputs": [
    {
     "name": "stdout",
     "output_type": "stream",
     "text": [
      "Answer set: {select(b), select(c)}\n",
      "Answer set: {select(a), select(c)}\n",
      "Answer set: {select(a), select(b)}\n"
     ]
    }
   ],
   "source": [
    "print_answer_sets(\"\"\"\n",
    "    element(a;b;c).\n",
    "    2 { select(E) : element(E) } 2.\n",
    "    #show select/1.\n",
    "\"\"\")"
   ]
  },
  {
   "cell_type": "markdown",
   "metadata": {},
   "source": [
    "### Generating subsets of size $\\leq k$\n",
    "\n",
    "If you want to generate all subsets that are of size *at most* $k$, you can do this:"
   ]
  },
  {
   "cell_type": "code",
   "execution_count": 13,
   "metadata": {},
   "outputs": [
    {
     "name": "stdout",
     "output_type": "stream",
     "text": [
      "Answer set: {}\n",
      "Answer set: {select(c)}\n",
      "Answer set: {select(b)}\n",
      "Answer set: {select(b), select(c)}\n",
      "Answer set: {select(a)}\n",
      "Answer set: {select(a), select(b)}\n",
      "Answer set: {select(a), select(c)}\n"
     ]
    }
   ],
   "source": [
    "print_answer_sets(\"\"\"\n",
    "    element(a;b;c).\n",
    "    { select(E) : element(E) } 2.\n",
    "    #show select/1.\n",
    "\"\"\")"
   ]
  },
  {
   "cell_type": "markdown",
   "metadata": {},
   "source": [
    "### Generating subsets of size $\\geq k$\n",
    "\n",
    "If you want to generate all subsets that are of size *at least* $k$, you can do this:"
   ]
  },
  {
   "cell_type": "code",
   "execution_count": 14,
   "metadata": {},
   "outputs": [
    {
     "name": "stdout",
     "output_type": "stream",
     "text": [
      "Answer set: {select(b), select(c)}\n",
      "Answer set: {select(a), select(c)}\n",
      "Answer set: {select(a), select(b), select(c)}\n",
      "Answer set: {select(a), select(b)}\n"
     ]
    }
   ],
   "source": [
    "print_answer_sets(\"\"\"\n",
    "    element(a;b;c).\n",
    "    2 { select(E) : element(E) }.\n",
    "    #show select/1.\n",
    "\"\"\")"
   ]
  },
  {
   "cell_type": "markdown",
   "metadata": {},
   "source": [
    "## Constraints\n",
    "\n",
    "The following tricks are useful for filtering out incorrect solutions, after you have generated a search space.\n",
    "\n",
    "We will illustrate these with the example case where we generated an arbitrary subset of elements, but the same tricks apply also to the other cases.\n",
    "\n",
    "### Basic constraints\n",
    "\n",
    "If you want to ensure that `something` is **true**, you can add the constraint `:- not something.` (which can be read as: \"It is not the case that `something` is not true\").\n",
    "\n",
    "For example, if you want to ensure that `a` is selected, you can use `:- not select(a).`."
   ]
  },
  {
   "cell_type": "code",
   "execution_count": 15,
   "metadata": {},
   "outputs": [
    {
     "name": "stdout",
     "output_type": "stream",
     "text": [
      "Answer set: {select(a)}\n",
      "Answer set: {select(a), select(c)}\n",
      "Answer set: {select(a), select(b)}\n",
      "Answer set: {select(a), select(b), select(c)}\n"
     ]
    }
   ],
   "source": [
    "print_answer_sets(\"\"\"\n",
    "    element(a;b;c).\n",
    "    { select(E) } :- element(E).\n",
    "    \n",
    "    :- not select(a).\n",
    "    \n",
    "    #show select/1.\n",
    "\"\"\")"
   ]
  },
  {
   "cell_type": "markdown",
   "metadata": {},
   "source": [
    "If you want to ensure that `something` is **false**, you can add the constraint `:- something.` (which can be read as: \"It is not the case that `something` is true\").\n",
    "\n",
    "For example, if you want to ensure that `a` is **not** selected, you can use `:- select(a).`."
   ]
  },
  {
   "cell_type": "code",
   "execution_count": 16,
   "metadata": {},
   "outputs": [
    {
     "name": "stdout",
     "output_type": "stream",
     "text": [
      "Answer set: {}\n",
      "Answer set: {select(c)}\n",
      "Answer set: {select(b)}\n",
      "Answer set: {select(b), select(c)}\n"
     ]
    }
   ],
   "source": [
    "print_answer_sets(\"\"\"\n",
    "    element(a;b;c).\n",
    "    { select(E) } :- element(E).\n",
    "    \n",
    "    :- select(a).\n",
    "    \n",
    "    #show select/1.\n",
    "\"\"\")"
   ]
  },
  {
   "cell_type": "markdown",
   "metadata": {},
   "source": [
    "### AND-constraints\n",
    "\n",
    "If you want to ensure that both `thing1` and `thing2` are true, you can define a new predicate (e.g., `my_property`), add rules that express that `my_property` is true if both `thing1` and `thing2` are true, and add a constraint that says that `my_property` must be true.\n",
    "\n",
    "For example:"
   ]
  },
  {
   "cell_type": "code",
   "execution_count": 17,
   "metadata": {},
   "outputs": [
    {
     "name": "stdout",
     "output_type": "stream",
     "text": [
      "Answer set: {select(a), select(b)}\n",
      "Answer set: {select(a), select(b), select(c)}\n"
     ]
    }
   ],
   "source": [
    "print_answer_sets(\"\"\"\n",
    "    element(a;b;c).\n",
    "    { select(E) } :- element(E).\n",
    "    \n",
    "    my_property :- select(a), select(b).\n",
    "    :- not my_property.\n",
    "    \n",
    "    #show select/1.\n",
    "\"\"\")"
   ]
  },
  {
   "cell_type": "markdown",
   "metadata": {},
   "source": [
    "This strategy (of defining a new predicate, defining when exactly this predicate is true, and requiring it to be true) works for more complicated cases as well.\n",
    "\n",
    "In this simple example, we could easily have done without the new predicate too, e.g.:"
   ]
  },
  {
   "cell_type": "code",
   "execution_count": 18,
   "metadata": {},
   "outputs": [
    {
     "name": "stdout",
     "output_type": "stream",
     "text": [
      "Answer set: {select(a), select(b)}\n",
      "Answer set: {select(a), select(b), select(c)}\n"
     ]
    }
   ],
   "source": [
    "print_answer_sets(\"\"\"\n",
    "    element(a;b;c).\n",
    "    { select(E) } :- element(E).\n",
    "    \n",
    "    :- not select(a).\n",
    "    :- not select(b).\n",
    "    \n",
    "    #show select/1.\n",
    "\"\"\")"
   ]
  },
  {
   "cell_type": "markdown",
   "metadata": {},
   "source": [
    "### OR-constraints\n",
    "\n",
    "If you want to ensure that `thing1` is true **or** `thing2` is true, you can use the strategy of introducing a new predicate, like this:"
   ]
  },
  {
   "cell_type": "code",
   "execution_count": 19,
   "metadata": {},
   "outputs": [
    {
     "name": "stdout",
     "output_type": "stream",
     "text": [
      "Answer set: {select(b)}\n",
      "Answer set: {select(b), select(c)}\n",
      "Answer set: {select(a)}\n",
      "Answer set: {select(a), select(c)}\n",
      "Answer set: {select(a), select(b)}\n",
      "Answer set: {select(a), select(b), select(c)}\n"
     ]
    }
   ],
   "source": [
    "print_answer_sets(\"\"\"\n",
    "    element(a;b;c).\n",
    "    { select(E) } :- element(E).\n",
    "    \n",
    "    my_property :- select(a).\n",
    "    my_property :- select(b).\n",
    "    :- not my_property.\n",
    "    \n",
    "    #show select/1.\n",
    "\"\"\")"
   ]
  },
  {
   "cell_type": "markdown",
   "metadata": {},
   "source": [
    "Or you can add a constraint `:- not thing1, not thing2.` (which can be read as: \"It is not the case that both `thing1` is false and `thing2` is false\").\n",
    "\n",
    "For example:"
   ]
  },
  {
   "cell_type": "code",
   "execution_count": 20,
   "metadata": {},
   "outputs": [
    {
     "name": "stdout",
     "output_type": "stream",
     "text": [
      "Answer set: {select(b)}\n",
      "Answer set: {select(b), select(c)}\n",
      "Answer set: {select(a)}\n",
      "Answer set: {select(a), select(c)}\n",
      "Answer set: {select(a), select(b)}\n",
      "Answer set: {select(a), select(b), select(c)}\n"
     ]
    }
   ],
   "source": [
    "print_answer_sets(\"\"\"\n",
    "    element(a;b;c).\n",
    "    { select(E) } :- element(E).\n",
    "    \n",
    "    :- not select(a), not select(b).\n",
    "    \n",
    "    #show select/1.\n",
    "\"\"\")"
   ]
  },
  {
   "cell_type": "markdown",
   "metadata": {},
   "source": [
    "### IMPLIES-constraints\n",
    "\n",
    "If you want to express that if `thing1` is true, then also `thing2` must be true, you can do that like this, for example:"
   ]
  },
  {
   "cell_type": "code",
   "execution_count": 21,
   "metadata": {},
   "outputs": [
    {
     "name": "stdout",
     "output_type": "stream",
     "text": [
      "Answer set: {}\n",
      "Answer set: {select(c)}\n",
      "Answer set: {select(b)}\n",
      "Answer set: {select(b), select(c)}\n",
      "Answer set: {select(a), select(b)}\n",
      "Answer set: {select(a), select(b), select(c)}\n"
     ]
    }
   ],
   "source": [
    "print_answer_sets(\"\"\"\n",
    "    element(a;b;c).\n",
    "    { select(E) } :- element(E).\n",
    "    \n",
    "    :- select(a), not select(b).\n",
    "    \n",
    "    #show select/1.\n",
    "\"\"\")"
   ]
  },
  {
   "cell_type": "markdown",
   "metadata": {},
   "source": [
    "Again, also here the strategy of defining a new predicate would work well.\n",
    "\n",
    "### IF-AND-ONLY-IF-constraints\n",
    "\n",
    "If you want to express that two things must either both be true, or both be false, you can do that by using two 'if-then' constraints. For example like this:"
   ]
  },
  {
   "cell_type": "code",
   "execution_count": 22,
   "metadata": {},
   "outputs": [
    {
     "name": "stdout",
     "output_type": "stream",
     "text": [
      "Answer set: {}\n",
      "Answer set: {select(c)}\n",
      "Answer set: {select(a), select(b)}\n",
      "Answer set: {select(a), select(b), select(c)}\n"
     ]
    }
   ],
   "source": [
    "print_answer_sets(\"\"\"\n",
    "    element(a;b;c).\n",
    "    { select(E) } :- element(E).\n",
    "    \n",
    "    :- select(a), not select(b).\n",
    "    :- not select(a), select(b).\n",
    "    \n",
    "    #show select/1.\n",
    "\"\"\")"
   ]
  },
  {
   "cell_type": "code",
   "execution_count": null,
   "metadata": {},
   "outputs": [],
   "source": []
  }
 ],
 "metadata": {
  "kernelspec": {
   "display_name": "Python 3",
   "language": "python",
   "name": "python3"
  },
  "language_info": {
   "codemirror_mode": {
    "name": "ipython",
    "version": 3
   },
   "file_extension": ".py",
   "mimetype": "text/x-python",
   "name": "python",
   "nbconvert_exporter": "python",
   "pygments_lexer": "ipython3",
   "version": "3.7.7"
  }
 },
 "nbformat": 4,
 "nbformat_minor": 4
}
