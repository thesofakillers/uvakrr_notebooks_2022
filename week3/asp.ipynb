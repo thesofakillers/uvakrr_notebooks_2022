{
 "cells": [
  {
   "cell_type": "markdown",
   "metadata": {},
   "source": [
    "# ASP solving with clingo in Python\n",
    "\n",
    "This is a small example to show how you can do Answer Set Programming with [clingo](https://potassco.org/clingo/) (part of the Potsdam Answer Set Solving Collection; or *Potassco*, for short) in Python.\n",
    "\n",
    "First, install clingo, e.g., using:\n",
    "`conda install -c potassco clingo`\n",
    "\n",
    "To use clingo in Python, import the clingo package."
   ]
  },
  {
   "cell_type": "code",
   "execution_count": 1,
   "metadata": {},
   "outputs": [],
   "source": [
    "import clingo"
   ]
  },
  {
   "cell_type": "markdown",
   "metadata": {},
   "source": [
    "You can then write an answer set program as a string.\n",
    "\n",
    "For an explanation of the syntax of answer set programs (that clingo uses) and for examples, see Potassco's [Getting Started page](https://potassco.org/doc/start/) and their [guide](https://github.com/potassco/guide/releases/tag/v2.2.0).\n",
    "\n",
    "Let's take the following simple example."
   ]
  },
  {
   "cell_type": "code",
   "execution_count": 2,
   "metadata": {},
   "outputs": [],
   "source": [
    "asp_program = \"\"\"\n",
    "    #const k=3.\n",
    "    number(1..k).\n",
    "    left(X) :- not right(X), number(X).\n",
    "    right(X) :- not left(X), number(X).\n",
    "    :- right(2).\n",
    "\"\"\""
   ]
  },
  {
   "cell_type": "markdown",
   "metadata": {},
   "source": [
    "We then create a clingo Control object, load the answer set program, and do the grounding (compiling away variables)."
   ]
  },
  {
   "cell_type": "code",
   "execution_count": 3,
   "metadata": {},
   "outputs": [],
   "source": [
    "control = clingo.Control()\n",
    "control.add(\"base\", [], asp_program)\n",
    "control.ground([(\"base\", [])])"
   ]
  },
  {
   "cell_type": "markdown",
   "metadata": {},
   "source": [
    "Before we ask clingo to find models (answer sets) for our program, we define a function `on_model()` that will be called for each model.\n",
    "\n",
    "For this example, we let this function extract and print some information about literals in the answer set that use the predicates `left/1` and `right/1`."
   ]
  },
  {
   "cell_type": "code",
   "execution_count": 4,
   "metadata": {},
   "outputs": [],
   "source": [
    "def on_model(model):\n",
    "    print(\"ANSWER SET:\")\n",
    "    for atom in model.symbols(atoms=True):\n",
    "        if atom.name == \"right\":\n",
    "            print(\"Right: {}\".format(\n",
    "                atom.arguments[0].number\n",
    "            ))\n",
    "        elif atom.name == \"left\":\n",
    "            print(\"Left: {}\".format(\n",
    "                atom.arguments[0].number\n",
    "            ))"
   ]
  },
  {
   "cell_type": "markdown",
   "metadata": {},
   "source": [
    "We then ask clingo to find a two answer sets for our program, and to call `on_model` on these when they are found."
   ]
  },
  {
   "cell_type": "code",
   "execution_count": 5,
   "metadata": {},
   "outputs": [
    {
     "name": "stdout",
     "output_type": "stream",
     "text": [
      "ANSWER SET:\n",
      "Right: 1\n",
      "Right: 3\n",
      "Left: 2\n",
      "ANSWER SET:\n",
      "Right: 1\n",
      "Left: 2\n",
      "Left: 3\n"
     ]
    }
   ],
   "source": [
    "control.configuration.solve.models = 2 # use 0 if you want to find all models\n",
    "answer = control.solve(on_model=on_model)"
   ]
  },
  {
   "cell_type": "markdown",
   "metadata": {},
   "source": [
    "We can check whether `solve()` found a model or not:"
   ]
  },
  {
   "cell_type": "code",
   "execution_count": 6,
   "metadata": {},
   "outputs": [
    {
     "name": "stdout",
     "output_type": "stream",
     "text": [
      "Found at least one answer set!\n"
     ]
    }
   ],
   "source": [
    "if answer.satisfiable:\n",
    "    print(\"Found at least one answer set!\")\n",
    "else:\n",
    "    print(\"Did not find an answer set!\")"
   ]
  },
  {
   "cell_type": "markdown",
   "metadata": {},
   "source": [
    "## Yielding answer sets\n",
    "\n",
    "Alternatively, instead of using the function `on_model()`, we can iterate over all answer sets. This works as follows."
   ]
  },
  {
   "cell_type": "code",
   "execution_count": 7,
   "metadata": {
    "scrolled": false
   },
   "outputs": [
    {
     "name": "stdout",
     "output_type": "stream",
     "text": [
      "Answer set: ['number(1)', 'number(2)', 'number(3)', 'left(1)', 'left(2)', 'left(3)']\n",
      "Answer set: ['number(1)', 'number(2)', 'number(3)', 'right(3)', 'left(1)', 'left(2)']\n",
      "Answer set: ['number(1)', 'number(2)', 'number(3)', 'right(2)', 'left(1)', 'left(3)']\n",
      "Answer set: ['number(1)', 'number(2)', 'number(3)', 'right(2)', 'right(3)', 'left(1)']\n",
      "Answer set: ['number(1)', 'number(2)', 'number(3)', 'right(1)', 'right(2)', 'left(3)']\n",
      "Answer set: ['number(1)', 'number(2)', 'number(3)', 'right(1)', 'right(2)', 'right(3)']\n",
      "Found at least one answer set!\n"
     ]
    }
   ],
   "source": [
    "new_program = \"\"\"\n",
    "    #const k=3.\n",
    "    number(1..k).\n",
    "    left(X) :- not right(X), number(X).\n",
    "    right(X) :- not left(X), number(X).\n",
    "    :- right(1), left(2).\n",
    "\"\"\"\n",
    "\n",
    "control = clingo.Control()\n",
    "control.add(\"base\", [], new_program)\n",
    "control.ground([(\"base\", [])])\n",
    "\n",
    "control.configuration.solve.models = 0\n",
    "\n",
    "with control.solve(yield_=True) as handle:\n",
    "    for model in handle:\n",
    "        print(\"Answer set: {}\".format([str(atom) for atom in model.symbols(atoms=True)]))\n",
    "    if handle.get().satisfiable:\n",
    "        print(\"Found at least one answer set!\")\n",
    "    else:\n",
    "        print(\"Did not find an answer set!\")"
   ]
  },
  {
   "cell_type": "markdown",
   "metadata": {},
   "source": [
    "For more information, see the [clingo Python API](https://potassco.org/clingo/python-api/5.4/)."
   ]
  }
 ],
 "metadata": {
  "kernelspec": {
   "display_name": "Python 3",
   "language": "python",
   "name": "python3"
  },
  "language_info": {
   "codemirror_mode": {
    "name": "ipython",
    "version": 3
   },
   "file_extension": ".py",
   "mimetype": "text/x-python",
   "name": "python",
   "nbconvert_exporter": "python",
   "pygments_lexer": "ipython3",
   "version": "3.7.7"
  }
 },
 "nbformat": 4,
 "nbformat_minor": 4
}
